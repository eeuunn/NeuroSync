{
  "cells": [
    {
      "cell_type": "markdown",
      "metadata": {
        "id": "view-in-github",
        "colab_type": "text"
      },
      "source": [
        "<a href=\"https://colab.research.google.com/github/eeuunn/NeuroSync/blob/main/Emotional_Persona.ipynb\" target=\"_parent\"><img src=\"https://colab.research.google.com/assets/colab-badge.svg\" alt=\"Open In Colab\"/></a>"
      ]
    },
    {
      "cell_type": "code",
      "execution_count": 64,
      "id": "b18bcf82-bbc9-40b0-8ca8-8f03f0e9cee1",
      "metadata": {
        "execution": {
          "iopub.execute_input": "2025-07-07T10:26:39.074749Z",
          "iopub.status.busy": "2025-07-07T10:26:39.074266Z",
          "iopub.status.idle": "2025-07-07T10:26:39.079657Z",
          "shell.execute_reply": "2025-07-07T10:26:39.078413Z",
          "shell.execute_reply.started": "2025-07-07T10:26:39.074723Z"
        },
        "id": "b18bcf82-bbc9-40b0-8ca8-8f03f0e9cee1"
      },
      "outputs": [],
      "source": [
        "import os\n",
        "os.environ[\"CUDA_LAUNCH_BLOCKING\"] = \"1\""
      ]
    },
    {
      "cell_type": "code",
      "execution_count": 65,
      "id": "9RdZFHMfpz1s",
      "metadata": {
        "colab": {
          "base_uri": "https://localhost:8080/"
        },
        "execution": {
          "iopub.execute_input": "2025-07-07T10:26:39.083085Z",
          "iopub.status.busy": "2025-07-07T10:26:39.082174Z",
          "iopub.status.idle": "2025-07-07T10:26:39.366381Z",
          "shell.execute_reply": "2025-07-07T10:26:39.364840Z",
          "shell.execute_reply.started": "2025-07-07T10:26:39.083026Z"
        },
        "id": "9RdZFHMfpz1s",
        "outputId": "f81511bf-2cb8-4e43-dc87-04fe923711f3"
      },
      "outputs": [
        {
          "output_type": "stream",
          "name": "stdout",
          "text": [
            "  % Total    % Received % Xferd  Average Speed   Time    Time     Time  Current\n",
            "                                 Dload  Upload   Total   Spent    Left  Speed\n",
            "100 10894  100 10894    0     0  48984      0 --:--:-- --:--:-- --:--:-- 49072\n"
          ]
        }
      ],
      "source": [
        "!curl -O https://raw.githubusercontent.com/monologg/KoBERT-Transformers/master/kobert_transformers/tokenization_kobert.py"
      ]
    },
    {
      "cell_type": "code",
      "execution_count": 66,
      "id": "6ccb1778-c476-4ef6-a662-eb379fc8d591",
      "metadata": {
        "colab": {
          "base_uri": "https://localhost:8080/"
        },
        "execution": {
          "iopub.execute_input": "2025-07-07T10:26:39.369632Z",
          "iopub.status.busy": "2025-07-07T10:26:39.368531Z",
          "iopub.status.idle": "2025-07-07T10:26:41.048516Z",
          "shell.execute_reply": "2025-07-07T10:26:41.046868Z",
          "shell.execute_reply.started": "2025-07-07T10:26:39.369563Z"
        },
        "id": "6ccb1778-c476-4ef6-a662-eb379fc8d591",
        "outputId": "99697787-56a0-4ab3-ed52-468a9f7048b4"
      },
      "outputs": [
        {
          "output_type": "stream",
          "name": "stdout",
          "text": [
            "Requirement already satisfied: kobert-transformers in /usr/local/lib/python3.11/dist-packages (0.6.0)\n",
            "Requirement already satisfied: torch>=1.1.0 in /usr/local/lib/python3.11/dist-packages (from kobert-transformers) (2.6.0+cu124)\n",
            "Requirement already satisfied: transformers<5,>=3 in /usr/local/lib/python3.11/dist-packages (from kobert-transformers) (4.53.1)\n",
            "Requirement already satisfied: sentencepiece>=0.1.91 in /usr/local/lib/python3.11/dist-packages (from kobert-transformers) (0.2.0)\n",
            "Requirement already satisfied: filelock in /usr/local/lib/python3.11/dist-packages (from torch>=1.1.0->kobert-transformers) (3.18.0)\n",
            "Requirement already satisfied: typing-extensions>=4.10.0 in /usr/local/lib/python3.11/dist-packages (from torch>=1.1.0->kobert-transformers) (4.14.1)\n",
            "Requirement already satisfied: networkx in /usr/local/lib/python3.11/dist-packages (from torch>=1.1.0->kobert-transformers) (3.5)\n",
            "Requirement already satisfied: jinja2 in /usr/local/lib/python3.11/dist-packages (from torch>=1.1.0->kobert-transformers) (3.1.6)\n",
            "Requirement already satisfied: fsspec in /usr/local/lib/python3.11/dist-packages (from torch>=1.1.0->kobert-transformers) (2025.3.2)\n",
            "Requirement already satisfied: nvidia-cuda-nvrtc-cu12==12.4.127 in /usr/local/lib/python3.11/dist-packages (from torch>=1.1.0->kobert-transformers) (12.4.127)\n",
            "Requirement already satisfied: nvidia-cuda-runtime-cu12==12.4.127 in /usr/local/lib/python3.11/dist-packages (from torch>=1.1.0->kobert-transformers) (12.4.127)\n",
            "Requirement already satisfied: nvidia-cuda-cupti-cu12==12.4.127 in /usr/local/lib/python3.11/dist-packages (from torch>=1.1.0->kobert-transformers) (12.4.127)\n",
            "Requirement already satisfied: nvidia-cudnn-cu12==9.1.0.70 in /usr/local/lib/python3.11/dist-packages (from torch>=1.1.0->kobert-transformers) (9.1.0.70)\n",
            "Requirement already satisfied: nvidia-cublas-cu12==12.4.5.8 in /usr/local/lib/python3.11/dist-packages (from torch>=1.1.0->kobert-transformers) (12.4.5.8)\n",
            "Requirement already satisfied: nvidia-cufft-cu12==11.2.1.3 in /usr/local/lib/python3.11/dist-packages (from torch>=1.1.0->kobert-transformers) (11.2.1.3)\n",
            "Requirement already satisfied: nvidia-curand-cu12==10.3.5.147 in /usr/local/lib/python3.11/dist-packages (from torch>=1.1.0->kobert-transformers) (10.3.5.147)\n",
            "Requirement already satisfied: nvidia-cusolver-cu12==11.6.1.9 in /usr/local/lib/python3.11/dist-packages (from torch>=1.1.0->kobert-transformers) (11.6.1.9)\n",
            "Requirement already satisfied: nvidia-cusparse-cu12==12.3.1.170 in /usr/local/lib/python3.11/dist-packages (from torch>=1.1.0->kobert-transformers) (12.3.1.170)\n",
            "Requirement already satisfied: nvidia-cusparselt-cu12==0.6.2 in /usr/local/lib/python3.11/dist-packages (from torch>=1.1.0->kobert-transformers) (0.6.2)\n",
            "Requirement already satisfied: nvidia-nccl-cu12==2.21.5 in /usr/local/lib/python3.11/dist-packages (from torch>=1.1.0->kobert-transformers) (2.21.5)\n",
            "Requirement already satisfied: nvidia-nvtx-cu12==12.4.127 in /usr/local/lib/python3.11/dist-packages (from torch>=1.1.0->kobert-transformers) (12.4.127)\n",
            "Requirement already satisfied: nvidia-nvjitlink-cu12==12.4.127 in /usr/local/lib/python3.11/dist-packages (from torch>=1.1.0->kobert-transformers) (12.4.127)\n",
            "Requirement already satisfied: triton==3.2.0 in /usr/local/lib/python3.11/dist-packages (from torch>=1.1.0->kobert-transformers) (3.2.0)\n",
            "Requirement already satisfied: sympy==1.13.1 in /usr/local/lib/python3.11/dist-packages (from torch>=1.1.0->kobert-transformers) (1.13.1)\n",
            "Requirement already satisfied: mpmath<1.4,>=1.1.0 in /usr/local/lib/python3.11/dist-packages (from sympy==1.13.1->torch>=1.1.0->kobert-transformers) (1.3.0)\n",
            "Requirement already satisfied: huggingface-hub<1.0,>=0.30.0 in /usr/local/lib/python3.11/dist-packages (from transformers<5,>=3->kobert-transformers) (0.33.2)\n",
            "Requirement already satisfied: numpy>=1.17 in /usr/local/lib/python3.11/dist-packages (from transformers<5,>=3->kobert-transformers) (2.0.2)\n",
            "Requirement already satisfied: packaging>=20.0 in /usr/local/lib/python3.11/dist-packages (from transformers<5,>=3->kobert-transformers) (24.2)\n",
            "Requirement already satisfied: pyyaml>=5.1 in /usr/local/lib/python3.11/dist-packages (from transformers<5,>=3->kobert-transformers) (6.0.2)\n",
            "Requirement already satisfied: regex!=2019.12.17 in /usr/local/lib/python3.11/dist-packages (from transformers<5,>=3->kobert-transformers) (2024.11.6)\n",
            "Requirement already satisfied: requests in /usr/local/lib/python3.11/dist-packages (from transformers<5,>=3->kobert-transformers) (2.32.3)\n",
            "Requirement already satisfied: tokenizers<0.22,>=0.21 in /usr/local/lib/python3.11/dist-packages (from transformers<5,>=3->kobert-transformers) (0.21.2)\n",
            "Requirement already satisfied: safetensors>=0.4.3 in /usr/local/lib/python3.11/dist-packages (from transformers<5,>=3->kobert-transformers) (0.5.3)\n",
            "Requirement already satisfied: tqdm>=4.27 in /usr/local/lib/python3.11/dist-packages (from transformers<5,>=3->kobert-transformers) (4.67.1)\n",
            "Requirement already satisfied: hf-xet<2.0.0,>=1.1.2 in /usr/local/lib/python3.11/dist-packages (from huggingface-hub<1.0,>=0.30.0->transformers<5,>=3->kobert-transformers) (1.1.5)\n",
            "Requirement already satisfied: MarkupSafe>=2.0 in /usr/local/lib/python3.11/dist-packages (from jinja2->torch>=1.1.0->kobert-transformers) (3.0.2)\n",
            "Requirement already satisfied: charset-normalizer<4,>=2 in /usr/local/lib/python3.11/dist-packages (from requests->transformers<5,>=3->kobert-transformers) (3.4.2)\n",
            "Requirement already satisfied: idna<4,>=2.5 in /usr/local/lib/python3.11/dist-packages (from requests->transformers<5,>=3->kobert-transformers) (3.10)\n",
            "Requirement already satisfied: urllib3<3,>=1.21.1 in /usr/local/lib/python3.11/dist-packages (from requests->transformers<5,>=3->kobert-transformers) (2.4.0)\n",
            "Requirement already satisfied: certifi>=2017.4.17 in /usr/local/lib/python3.11/dist-packages (from requests->transformers<5,>=3->kobert-transformers) (2025.6.15)\n"
          ]
        }
      ],
      "source": [
        "!pip install kobert-transformers"
      ]
    },
    {
      "cell_type": "code",
      "execution_count": 67,
      "id": "08b02eb5-67b7-430f-b35f-be9f2cc87c58",
      "metadata": {
        "colab": {
          "base_uri": "https://localhost:8080/"
        },
        "execution": {
          "iopub.execute_input": "2025-07-07T10:26:41.053420Z",
          "iopub.status.busy": "2025-07-07T10:26:41.052560Z",
          "iopub.status.idle": "2025-07-07T10:26:41.064229Z",
          "shell.execute_reply": "2025-07-07T10:26:41.062975Z",
          "shell.execute_reply.started": "2025-07-07T10:26:41.053351Z"
        },
        "id": "08b02eb5-67b7-430f-b35f-be9f2cc87c58",
        "outputId": "7e87a62d-9f9d-422e-b279-b5ad808be4df"
      },
      "outputs": [
        {
          "output_type": "stream",
          "name": "stdout",
          "text": [
            "Device: cuda\n"
          ]
        }
      ],
      "source": [
        "import json, itertools, random, pathlib\n",
        "from typing import List, Dict, Any\n",
        "import torch, torch.nn as nn\n",
        "from torch.utils.data import Dataset, DataLoader\n",
        "from kobert_transformers import get_tokenizer, get_kobert_model\n",
        "from transformers import get_linear_schedule_with_warmup\n",
        "from tqdm.auto import tqdm\n",
        "\n",
        "device = \"cuda\" if torch.cuda.is_available() else \"cpu\"\n",
        "print(\"Device:\", device)"
      ]
    },
    {
      "cell_type": "code",
      "execution_count": 68,
      "id": "Cg9_nigip_yA",
      "metadata": {
        "execution": {
          "iopub.execute_input": "2025-07-07T10:26:41.066718Z",
          "iopub.status.busy": "2025-07-07T10:26:41.065812Z",
          "iopub.status.idle": "2025-07-07T10:26:41.366285Z",
          "shell.execute_reply": "2025-07-07T10:26:41.364951Z",
          "shell.execute_reply.started": "2025-07-07T10:26:41.066661Z"
        },
        "id": "Cg9_nigip_yA"
      },
      "outputs": [],
      "source": [
        "from tokenization_kobert import KoBertTokenizer\n",
        "Tokenizer = KoBertTokenizer.from_pretrained('monologg/kobert')"
      ]
    },
    {
      "cell_type": "code",
      "execution_count": 69,
      "id": "bb4be783-046c-49d0-9fec-5e195dda665c",
      "metadata": {
        "execution": {
          "iopub.execute_input": "2025-07-07T10:26:41.369119Z",
          "iopub.status.busy": "2025-07-07T10:26:41.368079Z",
          "iopub.status.idle": "2025-07-07T10:26:41.377096Z",
          "shell.execute_reply": "2025-07-07T10:26:41.375826Z",
          "shell.execute_reply.started": "2025-07-07T10:26:41.369062Z"
        },
        "id": "bb4be783-046c-49d0-9fec-5e195dda665c"
      },
      "outputs": [],
      "source": [
        "class CFG:\n",
        "    model_name      = \"bert-base-multilingual-cased\"\n",
        "    max_length      = 256          # 텍스트 토큰 최대\n",
        "    emotion_dim     = 4            # 불안·슬픔·분노·기쁨\n",
        "    emotion_hidden  = 256\n",
        "    batch_size      = 32\n",
        "    num_epochs      = 6\n",
        "    lr_bert         = 1e-5\n",
        "    lr_other        = 5e-5\n",
        "    warmup_ratio    = 0.1\n",
        "    drop_emotion_p  = 0.1          # 감정 드롭 비율\n",
        "\n",
        "# 고정 길이 (프레임 수)\n",
        "T_Q, T_C, T_R, N_CH = 30, 8, 30, 5"
      ]
    },
    {
      "cell_type": "code",
      "execution_count": 70,
      "id": "afe01014-df41-4c73-8169-28e5ae80bef9",
      "metadata": {
        "execution": {
          "iopub.execute_input": "2025-07-07T10:26:41.379730Z",
          "iopub.status.busy": "2025-07-07T10:26:41.378656Z",
          "iopub.status.idle": "2025-07-07T10:26:41.396228Z",
          "shell.execute_reply": "2025-07-07T10:26:41.394984Z",
          "shell.execute_reply.started": "2025-07-07T10:26:41.379672Z"
        },
        "id": "afe01014-df41-4c73-8169-28e5ae80bef9"
      },
      "outputs": [],
      "source": [
        "class QADataset(Dataset):\n",
        "    def __init__(self, paths):\n",
        "        # ── NEW: 경로 리스트 처리 ─────────────────────────\n",
        "        if isinstance(paths, (str, pathlib.Path)):\n",
        "            paths = [paths]\n",
        "        self.data = []\n",
        "        for p in paths:\n",
        "            with open(p, encoding=\"utf-8\") as f:\n",
        "                self.data += [json.loads(line) for line in f]\n",
        "        # ────────────────────────────────────────────────\n",
        "\n",
        "    def __len__(self):\n",
        "        return len(self.data)\n",
        "\n",
        "    def __getitem__(self, idx):\n",
        "        r = self.data[idx]\n",
        "        qid       = r.get(\"qid\", f\"idx{idx:06d}\")\n",
        "        question  = r[\"question_text\"]\n",
        "        choices   = r[\"choices\"]       # len==5 고정\n",
        "\n",
        "        # 감정 필드가 없으면 zero-tensor 주입\n",
        "        if \"emotion_series\" in r:\n",
        "            q_emo = torch.tensor(r[\"emotion_series\"][\"question\"],  dtype=torch.float)\n",
        "            c_emo = torch.tensor(r[\"emotion_series\"][\"choices\"],   dtype=torch.float)\n",
        "        else:\n",
        "            q_emo = torch.zeros(T_Q, CFG.emotion_dim)        # [T_Q=60,  D=8]\n",
        "            c_emo = torch.zeros(N_CH, T_C, CFG.emotion_dim)     # [N_CH=5,  T_C=15, D=8]\n",
        "\n",
        "        ans_idx   = r.get(\"answer_index\", -1)  # 테스트 세트용 -1 허용\n",
        "\n",
        "        return qid, question, choices, q_emo, c_emo, ans_idx"
      ]
    },
    {
      "cell_type": "code",
      "source": [
        "def build_collate_fn(tokenizer, *, max_len=256, N_CH=5):\n",
        "    def collate(batch):\n",
        "        qids, q_texts, choices_all, _, c_emo_all, ans_all = zip(*batch)\n",
        "        B = len(batch)\n",
        "\n",
        "        # 1) 질문 + 선택지 플랫\n",
        "        flat = list(q_texts)\n",
        "        for chs in choices_all:\n",
        "            flat.extend(chs)              # 5개씩 추가\n",
        "\n",
        "        # 2) 한꺼번에 토크나이즈 → enc: dict of [B*6, L]\n",
        "        enc = tokenizer(flat, padding=\"max_length\",\n",
        "                        truncation=True, max_length=max_len,\n",
        "                        return_tensors=\"pt\")\n",
        "\n",
        "        # 3) 선택지별로 묶기\n",
        "        tpcs = []\n",
        "        for j in range(N_CH):\n",
        "            idxs = torch.arange(B) * N_CH + j + B   # +B: 질문 부분 지나감\n",
        "            tpcs.append({k: v[idxs] for k, v in enc.items()})\n",
        "            # 이제 v[idxs]  →  [B, L]\n",
        "\n",
        "        c_emo = torch.stack(c_emo_all)   # [B,5,15,8]\n",
        "        ans   = torch.tensor(ans_all)    # [B]\n",
        "\n",
        "        return list(qids), tpcs, c_emo, ans\n",
        "    return collate"
      ],
      "metadata": {
        "id": "tzsPVEDUmykC"
      },
      "id": "tzsPVEDUmykC",
      "execution_count": 71,
      "outputs": []
    },
    {
      "cell_type": "code",
      "execution_count": 72,
      "id": "5e39e295-5d41-4b28-b693-90f8e21f467b",
      "metadata": {
        "execution": {
          "iopub.execute_input": "2025-07-07T10:26:41.399292Z",
          "iopub.status.busy": "2025-07-07T10:26:41.397834Z",
          "iopub.status.idle": "2025-07-07T10:26:41.407700Z",
          "shell.execute_reply": "2025-07-07T10:26:41.406471Z",
          "shell.execute_reply.started": "2025-07-07T10:26:41.399201Z"
        },
        "id": "5e39e295-5d41-4b28-b693-90f8e21f467b"
      },
      "outputs": [],
      "source": [
        "class EmotionEncoder(nn.Module):\n",
        "    def __init__(self):\n",
        "        super().__init__()\n",
        "        self.gru = nn.GRU(CFG.emotion_dim, CFG.emotion_hidden, batch_first=True)\n",
        "    def forward(self, seq):        # [B,T,D]\n",
        "        _, h = self.gru(seq)\n",
        "        return h.squeeze(0)        # [B,H_e]"
      ]
    },
    {
      "cell_type": "code",
      "execution_count": 73,
      "id": "4eec8090-c1db-40f7-8b50-a503e1fda91b",
      "metadata": {
        "execution": {
          "iopub.execute_input": "2025-07-07T10:26:41.410527Z",
          "iopub.status.busy": "2025-07-07T10:26:41.409233Z",
          "iopub.status.idle": "2025-07-07T10:26:41.422827Z",
          "shell.execute_reply": "2025-07-07T10:26:41.421581Z",
          "shell.execute_reply.started": "2025-07-07T10:26:41.410471Z"
        },
        "id": "4eec8090-c1db-40f7-8b50-a503e1fda91b"
      },
      "outputs": [],
      "source": [
        "class DecisionModel(nn.Module):\n",
        "    def __init__(self):\n",
        "        super().__init__()\n",
        "        self.bert = get_kobert_model()\n",
        "        self.emo  = EmotionEncoder()\n",
        "        self.fc   = nn.Sequential(\n",
        "            nn.Linear(self.bert.config.hidden_size + CFG.emotion_hidden, 768),\n",
        "            nn.GELU(), nn.Dropout(0.2),\n",
        "            nn.Linear(768, 1)\n",
        "        )\n",
        "    def forward(self, tpcs, c_emo, use_emotion=True):\n",
        "        B = c_emo.size(0)\n",
        "        outs = []\n",
        "        for i in range(N_CH):\n",
        "            txt = self.bert(**{k:v.to(device) for k,v in tpcs[i].items()}).pooler_output\n",
        "            emo = self.emo(c_emo[:,i].to(device)) if use_emotion else \\\n",
        "                  torch.zeros(B, CFG.emotion_hidden, device=device)\n",
        "            outs.append(self.fc(torch.cat([txt, emo], 1)))\n",
        "        return torch.cat(outs, 1)   # [B,5]"
      ]
    },
    {
      "cell_type": "code",
      "execution_count": 106,
      "id": "ed050873-cb8f-4e02-bb49-fabffa7a3781",
      "metadata": {
        "execution": {
          "iopub.execute_input": "2025-07-07T10:28:27.719643Z",
          "iopub.status.busy": "2025-07-07T10:28:27.719063Z",
          "iopub.status.idle": "2025-07-07T10:28:27.730968Z",
          "shell.execute_reply": "2025-07-07T10:28:27.729658Z",
          "shell.execute_reply.started": "2025-07-07T10:28:27.719614Z"
        },
        "id": "ed050873-cb8f-4e02-bb49-fabffa7a3781"
      },
      "outputs": [],
      "source": [
        "import torch.nn.functional as F\n",
        "\n",
        "@torch.no_grad()\n",
        "def evaluate(model, loader):\n",
        "    model.eval()\n",
        "    hit = tot = 0\n",
        "\n",
        "    # --- 디버깅을 위해 추가 ---\n",
        "    print(\"===== 디버깅 시작: 개선된 evaluate 함수 내부 값 확인 =====\")\n",
        "    printed_once = False\n",
        "    # -------------------------\n",
        "\n",
        "    for qids, tpcs, _, ans in loader: # c_emo는 무시\n",
        "        # 배치 크기에 맞는 더미 텐서 생성\n",
        "        batch_size = ans.size(0)\n",
        "        dummy_emo = torch.zeros(batch_size, N_CH, T_C, CFG.emotion_dim, device=device)\n",
        "\n",
        "        # 더미 텐서를 사용해 모델 예측\n",
        "        logits = model(tpcs, dummy_emo, use_emotion=False)\n",
        "\n",
        "        # --- 디버깅을 위해 추가 ---\n",
        "        if not printed_once:\n",
        "            preds = logits.argmax(-1).cpu()\n",
        "            print(f\"모델 예측값 (preds): {preds}\")\n",
        "            print(f\"실제 정답 (ans):   {ans}\")\n",
        "            print(f\"예측과 정답 비교:   {preds == ans}\")\n",
        "            printed_once = True\n",
        "        # -------------------------\n",
        "\n",
        "        hit   += (logits.argmax(-1).cpu() == ans).sum().item()\n",
        "        tot   += ans.size(0)\n",
        "\n",
        "    print(\"======================== 디버깅 종료 ========================\")\n",
        "    return hit / tot\n",
        "\n",
        "TEMPERATURE = 2.0      # KL softening\n",
        "ALPHA       = 0.7      # KD 가중치 (0~1)\n",
        "\n",
        "def train_epoch(model, loader, opt, sched,\n",
        "                *, ALPHA=0.5, TEMPERATURE=2.0, device=\"cuda\"):\n",
        "    model.train()\n",
        "    ce = nn.CrossEntropyLoss()\n",
        "\n",
        "    for batch_idx, (qids, tpcs, c_emo, ans) in enumerate(loader):\n",
        "\n",
        "        # --- 데이터 이동\n",
        "        ans   = ans.to(device)\n",
        "        c_emo = c_emo.to(device)\n",
        "\n",
        "        # --- 1) Teacher (감정 사용) -----------------------------\n",
        "        logits_T = model(tpcs, c_emo, use_emotion=True)    # [B,5]\n",
        "\n",
        "        # --- 2) Student (감정 OFF) -----------------------------\n",
        "        logits_S = model(tpcs, c_emo, use_emotion=False)   # [B,5]\n",
        "\n",
        "        # --- 3) 손실 계산 --------------------------------------\n",
        "        loss_ce = ce(logits_S, ans)                        # CE\n",
        "\n",
        "        kd_loss = F.kl_div(\n",
        "            F.log_softmax(logits_S / TEMPERATURE, dim=-1),\n",
        "            F.softmax(    logits_T / TEMPERATURE, dim=-1),\n",
        "            reduction=\"batchmean\"\n",
        "        ) * (TEMPERATURE ** 2)\n",
        "\n",
        "        loss = (1 - ALPHA) * loss_ce + ALPHA * kd_loss\n",
        "\n",
        "        # --- 🔥 디버깅을 위해 추가할 코드 🔥 ---\n",
        "        if batch_idx % 20 == 0:  # 20 배치마다 한 번씩 출력\n",
        "            print(f\"  [Train] Epoch {epoch}, Batch {batch_idx}/{len(loader)}, Loss: {loss.item():.4f}\")\n",
        "        # ------------------------------------\n",
        "\n",
        "        # --- 4) 역전파 & 옵티마이저 ----------------------------\n",
        "        opt.zero_grad()\n",
        "        loss.backward()\n",
        "        nn.utils.clip_grad_norm_(model.parameters(), 1.0)\n",
        "        opt.step()\n",
        "        sched.step()"
      ]
    },
    {
      "cell_type": "code",
      "execution_count": 118,
      "id": "6fac6383-daa5-42e8-bfe3-4637e9875735",
      "metadata": {
        "execution": {
          "iopub.execute_input": "2025-07-07T10:28:30.183565Z",
          "iopub.status.busy": "2025-07-07T10:28:30.182301Z",
          "iopub.status.idle": "2025-07-07T10:28:30.221139Z",
          "shell.execute_reply": "2025-07-07T10:28:30.219731Z",
          "shell.execute_reply.started": "2025-07-07T10:28:30.183498Z"
        },
        "id": "6fac6383-daa5-42e8-bfe3-4637e9875735"
      },
      "outputs": [],
      "source": [
        "collate_fn  = build_collate_fn(Tokenizer)\n",
        "\n",
        "train_ds = QADataset([\"set4_Anger_Disgust_Fear_Joy.jsonl\", \"set2_Anger_Disgust_Fear_Joy.jsonl\", \"set3_Anger_Disgust_Fear_Joy.jsonl\", \"set5_Anger_Disgust_Fear_Joy.jsonl\"])\n",
        "val_ds   = QADataset(\"set1_Anger_Disgust_Fear_Joy.jsonl\")\n",
        "\n",
        "train_ld = DataLoader(train_ds, batch_size=CFG.batch_size, shuffle=True,\n",
        "                      collate_fn=collate_fn)\n",
        "val_ld   = DataLoader(val_ds,   batch_size=CFG.batch_size, shuffle=False,\n",
        "                      collate_fn=collate_fn)"
      ]
    },
    {
      "cell_type": "code",
      "execution_count": 119,
      "id": "b22a2940-c9f8-4d6d-bdcf-cba6a02eddf1",
      "metadata": {
        "execution": {
          "iopub.execute_input": "2025-07-07T10:28:31.269038Z",
          "iopub.status.busy": "2025-07-07T10:28:31.267998Z",
          "iopub.status.idle": "2025-07-07T10:28:32.053196Z",
          "shell.execute_reply": "2025-07-07T10:28:32.052035Z",
          "shell.execute_reply.started": "2025-07-07T10:28:31.268978Z"
        },
        "id": "b22a2940-c9f8-4d6d-bdcf-cba6a02eddf1"
      },
      "outputs": [],
      "source": [
        "model = DecisionModel().to(device)\n",
        "bert_p  = [p for n,p in model.named_parameters() if n.startswith(\"bert.\")]\n",
        "other_p = [p for n,p in model.named_parameters() if not n.startswith(\"bert.\")]\n",
        "\n",
        "opt = torch.optim.AdamW(\n",
        "    [{\"params\": bert_p,  \"lr\": CFG.lr_bert},\n",
        "     {\"params\": other_p, \"lr\": CFG.lr_other}], weight_decay=0.01)\n",
        "\n",
        "steps = len(train_ld)*CFG.num_epochs\n",
        "sch   = get_linear_schedule_with_warmup(opt, int(CFG.warmup_ratio*steps), steps)"
      ]
    },
    {
      "cell_type": "code",
      "execution_count": 120,
      "id": "20cbbf6f-557a-47c1-bafd-63132b58182e",
      "metadata": {
        "execution": {
          "iopub.status.busy": "2025-07-07T10:26:42.288171Z",
          "iopub.status.idle": "2025-07-07T10:26:42.288473Z",
          "shell.execute_reply": "2025-07-07T10:26:42.288337Z",
          "shell.execute_reply.started": "2025-07-07T10:26:42.288321Z"
        },
        "id": "20cbbf6f-557a-47c1-bafd-63132b58182e",
        "colab": {
          "base_uri": "https://localhost:8080/"
        },
        "outputId": "377a5715-33cb-426e-edea-903b4cd75da8"
      },
      "outputs": [
        {
          "output_type": "stream",
          "name": "stdout",
          "text": [
            "\n",
            "Epoch 1/6\n",
            "  [Train] Epoch 1, Batch 0/1, Loss: 0.8089\n",
            "===== 디버깅 시작: 개선된 evaluate 함수 내부 값 확인 =====\n",
            "모델 예측값 (preds): tensor([0])\n",
            "실제 정답 (ans):   tensor([0])\n",
            "예측과 정답 비교:   tensor([True])\n",
            "======================== 디버깅 종료 ========================\n",
            "val acc = 1.0\n",
            "✅ best saved\n",
            "\n",
            "Epoch 2/6\n",
            "  [Train] Epoch 2, Batch 0/1, Loss: 0.7811\n",
            "===== 디버깅 시작: 개선된 evaluate 함수 내부 값 확인 =====\n",
            "모델 예측값 (preds): tensor([0])\n",
            "실제 정답 (ans):   tensor([0])\n",
            "예측과 정답 비교:   tensor([True])\n",
            "======================== 디버깅 종료 ========================\n",
            "val acc = 1.0\n",
            "\n",
            "Epoch 3/6\n",
            "  [Train] Epoch 3, Batch 0/1, Loss: 0.8267\n",
            "===== 디버깅 시작: 개선된 evaluate 함수 내부 값 확인 =====\n",
            "모델 예측값 (preds): tensor([0])\n",
            "실제 정답 (ans):   tensor([0])\n",
            "예측과 정답 비교:   tensor([True])\n",
            "======================== 디버깅 종료 ========================\n",
            "val acc = 1.0\n",
            "\n",
            "Epoch 4/6\n",
            "  [Train] Epoch 4, Batch 0/1, Loss: 0.7729\n",
            "===== 디버깅 시작: 개선된 evaluate 함수 내부 값 확인 =====\n",
            "모델 예측값 (preds): tensor([0])\n",
            "실제 정답 (ans):   tensor([0])\n",
            "예측과 정답 비교:   tensor([True])\n",
            "======================== 디버깅 종료 ========================\n",
            "val acc = 1.0\n",
            "\n",
            "Epoch 5/6\n",
            "  [Train] Epoch 5, Batch 0/1, Loss: 0.7496\n",
            "===== 디버깅 시작: 개선된 evaluate 함수 내부 값 확인 =====\n",
            "모델 예측값 (preds): tensor([0])\n",
            "실제 정답 (ans):   tensor([0])\n",
            "예측과 정답 비교:   tensor([True])\n",
            "======================== 디버깅 종료 ========================\n",
            "val acc = 1.0\n",
            "\n",
            "Epoch 6/6\n",
            "  [Train] Epoch 6, Batch 0/1, Loss: 0.7578\n",
            "===== 디버깅 시작: 개선된 evaluate 함수 내부 값 확인 =====\n",
            "모델 예측값 (preds): tensor([0])\n",
            "실제 정답 (ans):   tensor([0])\n",
            "예측과 정답 비교:   tensor([True])\n",
            "======================== 디버깅 종료 ========================\n",
            "val acc = 1.0\n"
          ]
        }
      ],
      "source": [
        "best = 0\n",
        "for epoch in range(1, CFG.num_epochs+1):\n",
        "    print(f\"\\nEpoch {epoch}/{CFG.num_epochs}\")\n",
        "    train_epoch(model, train_ld, opt, sch)\n",
        "    acc = evaluate(model, val_ld)\n",
        "    print(\"val acc =\", acc)\n",
        "    if acc > best:\n",
        "        best = acc\n",
        "        torch.save(model.state_dict(), \"best.pt\")\n",
        "        print(\"✅ best saved\")"
      ]
    },
    {
      "cell_type": "code",
      "execution_count": 121,
      "id": "3033f7db-6638-4664-b2a1-c2d44ab0ea6d",
      "metadata": {
        "execution": {
          "iopub.status.busy": "2025-07-07T10:26:42.289473Z",
          "iopub.status.idle": "2025-07-07T10:26:42.289756Z",
          "shell.execute_reply": "2025-07-07T10:26:42.289629Z",
          "shell.execute_reply.started": "2025-07-07T10:26:42.289617Z"
        },
        "id": "3033f7db-6638-4664-b2a1-c2d44ab0ea6d",
        "colab": {
          "base_uri": "https://localhost:8080/"
        },
        "outputId": "1e2b0c71-3302-4f0f-c359-0ad415f0a656"
      },
      "outputs": [
        {
          "output_type": "stream",
          "name": "stdout",
          "text": [
            "Predicted: 0 | Probs: [0.20132966339588165, 0.2008781135082245, 0.19965198636054993, 0.1993076056241989, 0.19883258640766144]\n"
          ]
        }
      ],
      "source": [
        "model.load_state_dict(torch.load(\"best.pt\", map_location=device))\n",
        "model.eval()\n",
        "\n",
        "def predict(question:str, choices:List[str]):\n",
        "    tok = Tokenizer\n",
        "    pair = [f\"{question} [SEP] {c}\" for c in choices]\n",
        "    enc = tok(pair, padding=True, truncation=True,\n",
        "              max_length=CFG.max_length, return_tensors=\"pt\")\n",
        "    tpcs = [{k:v[i:i+1].to(device) for k,v in enc.items()} for i in range(N_CH)]\n",
        "    dummy = torch.zeros(1, N_CH, T_C, CFG.emotion_dim, device=device)\n",
        "    with torch.no_grad():\n",
        "        out = model(tpcs, dummy, use_emotion=False).softmax(-1).squeeze()\n",
        "    return int(out.argmax()), out.tolist()\n",
        "\n",
        "idx, probs = predict(\n",
        "    \"유람선이 침몰했다. 누구를 먼저 구할까?\",\n",
        "    [\"A\",\"B\",\"C\",\"D\",\"E\"])\n",
        "print(\"Predicted:\", idx, \"| Probs:\", probs)"
      ]
    }
  ],
  "metadata": {
    "accelerator": "GPU",
    "colab": {
      "gpuType": "T4",
      "provenance": [],
      "include_colab_link": true
    },
    "kernelspec": {
      "display_name": "Python 3 (ipykernel)",
      "language": "python",
      "name": "python3"
    },
    "language_info": {
      "codemirror_mode": {
        "name": "ipython",
        "version": 3
      },
      "file_extension": ".py",
      "mimetype": "text/x-python",
      "name": "python",
      "nbconvert_exporter": "python",
      "pygments_lexer": "ipython3",
      "version": "3.12.8"
    }
  },
  "nbformat": 4,
  "nbformat_minor": 5
}